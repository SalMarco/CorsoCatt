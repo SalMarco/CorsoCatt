{
 "cells": [
  {
   "cell_type": "markdown",
   "metadata": {},
   "source": [
    "# First Lesson: loops and conditions\n",
    "\n",
    "In this part of the lesson we will focus on \n",
    "\n",
    "  - Loops: for and while\n",
    "  - Conditions\n",
    "  \n",
    "We have already used some of this in the previous lesson."
   ]
  },
  {
   "cell_type": "markdown",
   "metadata": {},
   "source": [
    "## For Loop\n",
    "\n",
    "In Pyhon for loop are widely used. We will focus on:\n",
    "\n",
    "  - Normal syntax\n",
    "  - Oneliner syntax\n",
    "  - Alternatives\n",
    "  - Comparison with R"
   ]
  },
  {
   "cell_type": "code",
   "execution_count": 1,
   "metadata": {},
   "outputs": [],
   "source": [
    "from pprint import pprint as pp"
   ]
  },
  {
   "cell_type": "code",
   "execution_count": 2,
   "metadata": {},
   "outputs": [
    {
     "name": "stdout",
     "output_type": "stream",
     "text": [
      "Type di range: <class 'range'>\n",
      "0\n",
      "1\n",
      "2\n",
      "3\n",
      "4\n",
      "Loop over letters in words\n",
      "H\n",
      "e\n",
      "l\n",
      "l\n",
      "o\n",
      "One liner\n",
      "['H', 'e', 'l', 'l', 'o']\n",
      "Enumerata items in list\n",
      "The letter in position 0 is H\n",
      "The letter in position 1 is e\n",
      "The letter in position 2 is l\n",
      "The letter in position 3 is l\n",
      "The letter in position 4 is o\n"
     ]
    }
   ],
   "source": [
    "#Basic format\n",
    "r=range(0,5)\n",
    "print('Type di range: %s'%type(r))\n",
    "for i in r:\n",
    "    print(i)\n",
    "s=\"Hello\"\n",
    "print('Loop over letters in words')\n",
    "for letter in s:\n",
    "    print(letter)\n",
    "print('One liner')\n",
    "sList=[letter for letter in s]\n",
    "print(sList)\n",
    "print('Enumerata items in list')\n",
    "for i,letter in enumerate(s):\n",
    "    print('The letter in position %i is %s'%(i,letter))"
   ]
  },
  {
   "cell_type": "markdown",
   "metadata": {},
   "source": [
    "**NOTE:** Again please take note that in python we always start from **0**"
   ]
  },
  {
   "cell_type": "code",
   "execution_count": 3,
   "metadata": {},
   "outputs": [
    {
     "name": "stdout",
     "output_type": "stream",
     "text": [
      "{'H': 0, 'e': 1, 'l': 3, 'o': 4}\n",
      "Usage of items for loop over a dictionary\n",
      "The value for key H is 0\n",
      "The value for key e is 1\n",
      "The value for key l is 3\n",
      "The value for key o is 4\n"
     ]
    }
   ],
   "source": [
    "#Another one liner\n",
    "d={k:v for v,k in enumerate(s)}\n",
    "pp(d)\n",
    "print('Usage of items for loop over a dictionary')\n",
    "for key,value in d.items():\n",
    "    print('The value for key %s is %s'%(key,str(value)))"
   ]
  },
  {
   "cell_type": "code",
   "execution_count": 5,
   "metadata": {},
   "outputs": [
    {
     "name": "stderr",
     "output_type": "stream",
     "text": [
      "UsageError: Line magic function `%R` not found.\n"
     ]
    }
   ],
   "source": [
    "%R \n",
    "longList=seq(1,1000)\n",
    "print(lenght(longList))"
   ]
  },
  {
   "cell_type": "markdown",
   "metadata": {},
   "source": [
    "## While Loop\n",
    "\n",
    "In Pyhton a while loop is probabilly less used than the for loop."
   ]
  },
  {
   "cell_type": "code",
   "execution_count": 5,
   "metadata": {},
   "outputs": [
    {
     "name": "stdout",
     "output_type": "stream",
     "text": [
      "0\n",
      "1\n",
      "2\n",
      "3\n",
      "4\n",
      "5\n",
      "6\n",
      "7\n",
      "8\n",
      "9\n"
     ]
    }
   ],
   "source": [
    "#First while example\n",
    "i=0\n",
    "while i<10:\n",
    "    print(i)\n",
    "    i+=1\n",
    "#Take note of the compact version on i=i+1"
   ]
  },
  {
   "cell_type": "markdown",
   "metadata": {},
   "source": [
    "We can also cancatenate the while loop with an else, like if."
   ]
  },
  {
   "cell_type": "code",
   "execution_count": 8,
   "metadata": {},
   "outputs": [
    {
     "name": "stdout",
     "output_type": "stream",
     "text": [
      "0  is  less than 5\n",
      "1  is  less than 5\n",
      "2  is  less than 5\n",
      "3  is  less than 5\n",
      "4  is  less than 5\n",
      "5  is not less than 5\n"
     ]
    }
   ],
   "source": [
    "count = 0\n",
    "while count < 5:\n",
    "   print(count, \" is  less than 5\")\n",
    "   count += 1\n",
    "else:\n",
    "   print(count, \" is not less than 5\")"
   ]
  },
  {
   "cell_type": "markdown",
   "metadata": {},
   "source": [
    "## If else \n",
    "\n",
    "Like in R, in Pythin we can use if-else for logical conditions, even in one-liner format.\n",
    "We can also use three conditions with `elif`."
   ]
  },
  {
   "cell_type": "code",
   "execution_count": 12,
   "metadata": {},
   "outputs": [
    {
     "name": "stdout",
     "output_type": "stream",
     "text": [
      "J is more or equal than 9\n",
      "J is less than 9\n",
      "Equal\n"
     ]
    }
   ],
   "source": [
    "#First example\n",
    "j=10\n",
    "if j<9:\n",
    "    print('J is less than 9')\n",
    "else:\n",
    "    print('J is more or equal than 9')\n",
    "#One-liner format\n",
    "j=5\n",
    "print('J is less than 9') if j<9 else print('J is more or equal than 9')\n",
    "#Elif\n",
    "j=10\n",
    "if j<9:\n",
    "    print('Less')\n",
    "elif j==10:\n",
    "    print('Equal')\n",
    "else:\n",
    "    print('More')"
   ]
  },
  {
   "cell_type": "markdown",
   "metadata": {},
   "source": [
    "Often is very handy to use logical condition over `type`. In this cases we will use `isistance`."
   ]
  },
  {
   "cell_type": "code",
   "execution_count": 14,
   "metadata": {},
   "outputs": [
    {
     "name": "stdout",
     "output_type": "stream",
     "text": [
      "Test string\n",
      "The element is not a string\n"
     ]
    }
   ],
   "source": [
    "s='Test string'\n",
    "ns=10\n",
    "testList=[s,ns]\n",
    "for cur_elm in testList:\n",
    "    if isinstance(cur_elm,str):\n",
    "        print(cur_elm)\n",
    "    else:\n",
    "        print('The element is not a string')"
   ]
  },
  {
   "cell_type": "markdown",
   "metadata": {},
   "source": [
    "**NOTE:** in python every empty data structure (list,dict....) is considered `False` in a if statement.\n",
    "    Also `0` is considered `False`, `1` is cosidered `True`"
   ]
  },
  {
   "cell_type": "code",
   "execution_count": 16,
   "metadata": {},
   "outputs": [
    {
     "name": "stdout",
     "output_type": "stream",
     "text": [
      "d is empty\n",
      "Check faild\n"
     ]
    }
   ],
   "source": [
    "#Check for an empty dict\n",
    "d={}\n",
    "if d:\n",
    "    pp('d')\n",
    "else:\n",
    "    print('d is empty')\n",
    "#Check for 0\n",
    "zero=0\n",
    "if zero:\n",
    "    print('Check passed')\n",
    "else:\n",
    "    print('Check faild')"
   ]
  },
  {
   "cell_type": "markdown",
   "metadata": {},
   "source": [
    "## Exercise \n",
    "\n",
    "Now let's try to put all together.\n",
    "\n",
    "Starting from a dict with keys like 1,2,3,4... and value like 'a', 'b', 'c'... use a for loop to create a set with only values that have an even key.\n",
    "\n",
    "\n",
    "Than use a while loop to empty the set. You have to stop whan the set is empty."
   ]
  },
  {
   "cell_type": "code",
   "execution_count": 6,
   "metadata": {},
   "outputs": [
    {
     "name": "stdout",
     "output_type": "stream",
     "text": [
      "set()\n",
      "pltuo\n"
     ]
    }
   ],
   "source": [
    "a={'a'}\n",
    "a.remove('a')\n",
    "print(a)\n",
    "if a:\n",
    "    print('pippo')\n",
    "else:\n",
    "    print('pltuo')"
   ]
  }
 ],
 "metadata": {
  "kernelspec": {
   "display_name": "Python 3",
   "language": "python",
   "name": "python3"
  },
  "language_info": {
   "codemirror_mode": {
    "name": "ipython",
    "version": 3
   },
   "file_extension": ".py",
   "mimetype": "text/x-python",
   "name": "python",
   "nbconvert_exporter": "python",
   "pygments_lexer": "ipython3",
   "version": "3.6.5"
  }
 },
 "nbformat": 4,
 "nbformat_minor": 2
}
