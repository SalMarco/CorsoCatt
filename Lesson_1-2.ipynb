{
 "cells": [
  {
   "cell_type": "markdown",
   "metadata": {},
   "source": [
    "# First Lesson: loops and conditions\n",
    "\n",
    "In this part of the lesson we will focus on \n",
    "\n",
    "  - Loops: for and while\n",
    "  - Conditions\n",
    "  \n",
    "We have already used some of this in the previous lesson."
   ]
  },
  {
   "cell_type": "markdown",
   "metadata": {},
   "source": [
    "## For Loop\n",
    "\n",
    "In Pyhon for loop are widely used. We will focus on:\n",
    "\n",
    "  - Normal syntax\n",
    "  - Oneliner syntax\n",
    "  - Alternatives\n",
    "  - Comparison with R"
   ]
  },
  {
   "cell_type": "code",
   "execution_count": 9,
   "metadata": {},
   "outputs": [],
   "source": [
    "from pprint import pprint as pp"
   ]
  },
  {
   "cell_type": "code",
   "execution_count": 7,
   "metadata": {},
   "outputs": [
    {
     "name": "stdout",
     "output_type": "stream",
     "text": [
      "Type di range: <class 'range'>\n",
      "0\n",
      "1\n",
      "2\n",
      "3\n",
      "4\n",
      "Loop over letters in words\n",
      "H\n",
      "e\n",
      "l\n",
      "l\n",
      "o\n",
      "One liner\n",
      "['H', 'e', 'l', 'l', 'o']\n",
      "Enumerata items in list\n",
      "The letter in position 0 is H\n",
      "The letter in position 1 is e\n",
      "The letter in position 2 is l\n",
      "The letter in position 3 is l\n",
      "The letter in position 4 is o\n"
     ]
    }
   ],
   "source": [
    "#Basic format\n",
    "r=range(0,5)\n",
    "print('Type di range: %s'%type(r))\n",
    "for i in r:\n",
    "    print(i)\n",
    "s=\"Hello\"\n",
    "print('Loop over letters in words')\n",
    "for letter in s:\n",
    "    print(letter)\n",
    "print('One liner')\n",
    "sList=[letter for letter in s]\n",
    "print(sList)\n",
    "print('Enumerata items in list')\n",
    "for i,letter in enumerate(s):\n",
    "    print('The letter in position %i is %s'%(i,letter))"
   ]
  },
  {
   "cell_type": "markdown",
   "metadata": {},
   "source": [
    "**NOTE:** Again please take note that in python we always start from **0**"
   ]
  },
  {
   "cell_type": "code",
   "execution_count": 12,
   "metadata": {},
   "outputs": [
    {
     "name": "stdout",
     "output_type": "stream",
     "text": [
      "{'H': 0, 'e': 1, 'l': 3, 'o': 4}\n",
      "Usage of items for loop over a dictionary\n",
      "The value for key H is 0\n",
      "The value for key e is 1\n",
      "The value for key l is 3\n",
      "The value for key o is 4\n"
     ]
    }
   ],
   "source": [
    "#Another one liner\n",
    "d={k:v for v,k in enumerate(s)}\n",
    "pp(d)\n",
    "print('Usage of items for loop over a dictionary')\n",
    "for key,value in d.items():\n",
    "    print('The value for key %s is %s'%(key,str(value)))"
   ]
  },
  {
   "cell_type": "code",
   "execution_count": null,
   "metadata": {},
   "outputs": [],
   "source": [
    "%%R -i\n",
    "longList=seq(1,1000)\n",
    "print(lenght(longList))"
   ]
  }
 ],
 "metadata": {
  "kernelspec": {
   "display_name": "Python 3",
   "language": "python",
   "name": "python3"
  },
  "language_info": {
   "codemirror_mode": {
    "name": "ipython",
    "version": 3
   },
   "file_extension": ".py",
   "mimetype": "text/x-python",
   "name": "python",
   "nbconvert_exporter": "python",
   "pygments_lexer": "ipython3",
   "version": "3.6.5"
  }
 },
 "nbformat": 4,
 "nbformat_minor": 2
}
