{
 "cells": [
  {
   "cell_type": "markdown",
   "metadata": {},
   "source": [
    "# First Exaple\n",
    "\n",
    "In this first examplewe will explore Python types\n",
    "\n",
    "## Import Libaries"
   ]
  },
  {
   "cell_type": "code",
   "execution_count": 8,
   "metadata": {},
   "outputs": [],
   "source": [
    "from pprint import pprint as pp\n",
    "from timeit import timeit "
   ]
  },
  {
   "cell_type": "markdown",
   "metadata": {},
   "source": [
    "This import will allow us to use pprint just calling pp to pretty print dictionaries"
   ]
  },
  {
   "cell_type": "markdown",
   "metadata": {},
   "source": [
    "## Types\n",
    "\n",
    "Considering variabiles, the main types in Python are int, float, char and bool"
   ]
  },
  {
   "cell_type": "code",
   "execution_count": 7,
   "metadata": {},
   "outputs": [
    {
     "ename": "SyntaxError",
     "evalue": "invalid syntax (<ipython-input-7-3e336bd3d673>, line 9)",
     "output_type": "error",
     "traceback": [
      "\u001b[1;36m  File \u001b[1;32m\"<ipython-input-7-3e336bd3d673>\"\u001b[1;36m, line \u001b[1;32m9\u001b[0m\n\u001b[1;33m    v_none=None\u001b[0m\n\u001b[1;37m         ^\u001b[0m\n\u001b[1;31mSyntaxError\u001b[0m\u001b[1;31m:\u001b[0m invalid syntax\n"
     ]
    }
   ],
   "source": [
    "v_int=1\n",
    "print('type of v_int',type(v_int))\n",
    "v_float=1.0\n",
    "print('type of v_float',type(v_float))\n",
    "v_str='Python is fun!'\n",
    "print('type of v_str',type(v_str))\n",
    "v_bool=False\n",
    "print('type of v_bool',type(v_bool)\n"
   ]
  },
  {
   "cell_type": "markdown",
   "metadata": {},
   "source": [
    "We can also change the type of a varibile"
   ]
  },
  {
   "cell_type": "code",
   "execution_count": 14,
   "metadata": {},
   "outputs": [
    {
     "name": "stdout",
     "output_type": "stream",
     "text": [
      "type of v_float <class 'str'> 1\n",
      "type of v_bool <class 'str'> False\n",
      "type of v_float <class 'int'> 1\n"
     ]
    }
   ],
   "source": [
    "v_float=str(v_float)\n",
    "print('type of v_float',type(v_float),v_float)\n",
    "v_bool=str(v_bool)\n",
    "print('type of v_bool',type(v_bool),v_bool)\n",
    "v_float=int(v_int)\n",
    "print('type of v_float',type(v_float),v_float)"
   ]
  },
  {
   "cell_type": "code",
   "execution_count": 12,
   "metadata": {},
   "outputs": [
    {
     "name": "stdout",
     "output_type": "stream",
     "text": [
      "type of v_int <class 'float'> 1.0\n"
     ]
    }
   ],
   "source": [
    "v_int=float(v_int)\n",
    "print('type of v_int',type(v_int),v_int)"
   ]
  },
  {
   "cell_type": "markdown",
   "metadata": {},
   "source": [
    "## Structures\n",
    "\n",
    "Let's consider data structure in PYthon: list, tuple, set and dictionary\n",
    "\n",
    "### List"
   ]
  },
  {
   "cell_type": "code",
   "execution_count": 30,
   "metadata": {},
   "outputs": [
    {
     "name": "stdout",
     "output_type": "stream",
     "text": [
      "type of l1 <class 'list'>\n",
      "[1, 2, 3]\n",
      "Lenght of the list 3\n"
     ]
    },
    {
     "data": {
      "text/plain": [
       "1"
      ]
     },
     "execution_count": 30,
     "metadata": {},
     "output_type": "execute_result"
    }
   ],
   "source": [
    "a=1\n",
    "b=2\n",
    "c=3\n",
    "l1=[a,b,c]\n",
    "l2=[4,5,6]\n",
    "v_bool=str(v_bool)\n",
    "print('type of l1',type(l1))\n",
    "print(l1)\n",
    "#Lenght of a list\n",
    "print('Lenght of the list',len(l1))\n",
    "# Access element of the list\n",
    "l1[0]"
   ]
  },
  {
   "cell_type": "markdown",
   "metadata": {},
   "source": [
    "**NOTE:** in Python we always start from 0!!!\n",
    "The 3rd elemt in the list is accessible with 2, 3 is not present"
   ]
  },
  {
   "cell_type": "code",
   "execution_count": 22,
   "metadata": {},
   "outputs": [
    {
     "ename": "IndexError",
     "evalue": "list index out of range",
     "output_type": "error",
     "traceback": [
      "\u001b[1;31m---------------------------------------------------------------------------\u001b[0m",
      "\u001b[1;31mIndexError\u001b[0m                                Traceback (most recent call last)",
      "\u001b[1;32m<ipython-input-22-a0f5082a2e0d>\u001b[0m in \u001b[0;36m<module>\u001b[1;34m()\u001b[0m\n\u001b[0;32m      1\u001b[0m \u001b[0ml1\u001b[0m\u001b[1;33m[\u001b[0m\u001b[1;36m2\u001b[0m\u001b[1;33m]\u001b[0m\u001b[1;33m\u001b[0m\u001b[0m\n\u001b[1;32m----> 2\u001b[1;33m \u001b[0ml1\u001b[0m\u001b[1;33m[\u001b[0m\u001b[1;36m3\u001b[0m\u001b[1;33m]\u001b[0m\u001b[1;33m\u001b[0m\u001b[0m\n\u001b[0m",
      "\u001b[1;31mIndexError\u001b[0m: list index out of range"
     ]
    }
   ],
   "source": [
    "l1[2]\n",
    "l1[3]"
   ]
  },
  {
   "cell_type": "code",
   "execution_count": null,
   "metadata": {},
   "outputs": [],
   "source": [
    "We can add elements to a list and modify it."
   ]
  },
  {
   "cell_type": "code",
   "execution_count": 31,
   "metadata": {},
   "outputs": [
    {
     "name": "stdout",
     "output_type": "stream",
     "text": [
      "[1, 2, 3]\n",
      "[1, 2, 3, 20]\n",
      "[10, 2, 3, 20]\n",
      "[10, 2, 3, 20, 4, 5, 6]\n",
      "[1, 2, 3, [4, 5, 6]]\n"
     ]
    }
   ],
   "source": [
    "print(l1)\n",
    "l1.append(20)\n",
    "print(l1)\n",
    "l1[0]=10\n",
    "print(l1)\n",
    "# Append l2 at the end of l1\n",
    "l1.extend(l2)\n",
    "print(l1)\n",
    "l3=[1,2,3]\n",
    "l3.append(l2)\n",
    "print(l3)"
   ]
  },
  {
   "cell_type": "markdown",
   "metadata": {},
   "source": [
    "### Tuple\n",
    "\n",
    "A tuple id a kind of list, but it's immutable."
   ]
  },
  {
   "cell_type": "code",
   "execution_count": 8,
   "metadata": {},
   "outputs": [
    {
     "name": "stdout",
     "output_type": "stream",
     "text": [
      "type of t1: <class 'tuple'>, type of t2: <class 'tuple'>\n",
      "First element of t1: 1\n",
      "Len of t2: 3\n"
     ]
    }
   ],
   "source": [
    "t1=(1,2,3)\n",
    "t2=('a','b',4)\n",
    "print('type of t1: %s, type of t2: %s'%(type(t1),type(t2)))\n",
    "print('First element of t1: %i'%t1[0])\n",
    "print('Len of t2: %i'%len(t2))"
   ]
  },
  {
   "cell_type": "markdown",
   "metadata": {},
   "source": [
    "## Dictionary\n",
    "\n",
    "A Dictionary is a collection of key-value couples. In python dictionary are hash tables, so\n",
    "\n",
    "  - Keys are unique\n",
    "  - You can acces an element using is key\n",
    "  "
   ]
  },
  {
   "cell_type": "code",
   "execution_count": 16,
   "metadata": {},
   "outputs": [
    {
     "name": "stdout",
     "output_type": "stream",
     "text": [
      "Type of d1:<class 'dict'> and d2:<class 'dict'>\n",
      "{'a': 1, 'b': 2, 'c': 3}\n",
      "{'a': 1, 'b': 2, 'c': 3}\n",
      "The value for the key \"a\" is 1\n",
      "dict_keys(['a', 'b', 'c'])\n",
      "dict_values([1, 2, 3])\n",
      "Type of ldv: <class 'dict_values'>\n",
      "{'a': 1, 'b': 2, 'c': 3, 'd': 10}\n",
      "{'a': 1, 'b': 2, 'c': 3, 'd': 20}\n",
      "No pippo in d2\n",
      "One liner of if else\n",
      "No pippo in d2\n"
     ]
    }
   ],
   "source": [
    "d1=dict()\n",
    "d2={'a':1,'b':2,'c':3}\n",
    "print('Type of d1:%s and d2:%s'%(type(d1),type(d2)))\n",
    "# Let's use the pp library\n",
    "print(d2)\n",
    "pp(d2)\n",
    "# Access  an elemnt in a list\n",
    "print('The value for the key \"a\" is %i'%d2['a'])\n",
    "#Acces the list ok keys and values in the dict\n",
    "print(d2.keys())\n",
    "print(d2.values())\n",
    "ldv=d2.values()\n",
    "print('Type of ldv: %s'%type(ldv))\n",
    "#Add an elemnt in the dictionary\n",
    "d2['d']=10\n",
    "pp(d2)\n",
    "#Replace an elemnt in d2, keys are unique!\n",
    "d2['d']=20\n",
    "pp(d2)\n",
    "#Check in a given key is present in the dict\n",
    "'a' in d2\n",
    "if 'pippo' in d2:\n",
    "    print('pippo is in d2')\n",
    "else:\n",
    "    print('No pippo in d2')\n",
    "    \n",
    "#FYI you can also make the previous check in one line, line ifelse in R\n",
    "print('One liner of if else')\n",
    "print('pippo is in d2') if 'pippo' in d2 else print('No pippo in d2')"
   ]
  },
  {
   "cell_type": "markdown",
   "metadata": {},
   "source": [
    "## Sets\n",
    "\n",
    "Set are substantially dictionary with only keys and no value.\n",
    "They retains the most important proprities of dictionaries."
   ]
  },
  {
   "cell_type": "code",
   "execution_count": 18,
   "metadata": {},
   "outputs": [
    {
     "name": "stdout",
     "output_type": "stream",
     "text": [
      "Len of s2 is: %i 3\n",
      "{'a', 'b', 'd', 'c'}\n",
      "{'b', 'd', 'c'}\n"
     ]
    },
    {
     "data": {
      "text/plain": [
       "False"
      ]
     },
     "execution_count": 18,
     "metadata": {},
     "output_type": "execute_result"
    }
   ],
   "source": [
    "s1=set()\n",
    "s2={'a','b','c'}\n",
    "print('Len of s2 is: %i',len(s2))\n",
    "#Add an element in s2\n",
    "s2.add('d')\n",
    "pp(s2)\n",
    "#Remove an element form s2\n",
    "s2.remove('a')\n",
    "pp(s2)\n",
    "'a'in s2"
   ]
  },
  {
   "cell_type": "markdown",
   "metadata": {},
   "source": [
    "Before moving on with other properties of set, let's understand one of the biggest difference between a set (or a dict) and a list"
   ]
  },
  {
   "cell_type": "code",
   "execution_count": 8,
   "metadata": {},
   "outputs": [
    {
     "name": "stdout",
     "output_type": "stream",
     "text": [
      "Len of longList; 999\n",
      "Len of longList2: 999\n",
      "Len on longSet: 999\n",
      "Let's compare the execution time of a search in longSet and longList\n",
      "34.4 µs ± 653 ns per loop (mean ± std. dev. of 7 runs, 10000 loops each)\n",
      "275 ns ± 12.1 ns per loop (mean ± std. dev. of 7 runs, 1000000 loops each)\n",
      "67.6 µs ± 2.9 µs per loop (mean ± std. dev. of 7 runs, 10000 loops each)\n",
      "276 ns ± 7.98 ns per loop (mean ± std. dev. of 7 runs, 1000000 loops each)\n"
     ]
    }
   ],
   "source": [
    "#Let's create a long list\n",
    "longList=[i for i in range(1,1000)]\n",
    "print('Len of longList: %i'%len(longList))\n",
    "#In python range returns element up to end-1\n",
    "#This is equivalent to\n",
    "longList2=[]\n",
    "for i in range(1,1000):\n",
    "    longList2.append(i)\n",
    "print('Len of longList2: %i'%len(longList2))\n",
    "#Let's create a long set\n",
    "longSet={i for i in range(1,1000)}\n",
    "print('Len on longSet: %i'%len(longSet))\n",
    "print(\"Let's compare the execution time of a search in longSet and longList\")\n",
    "%timeit 500 in longList\n",
    "%timeit 500 in longSet\n",
    "%timeit 999 in longList\n",
    "%timeit 999 in longSet"
   ]
  },
  {
   "cell_type": "code",
   "execution_count": 27,
   "metadata": {},
   "outputs": [
    {
     "name": "stdout",
     "output_type": "stream",
     "text": [
      "5 print for the list\n",
      "['pippo', 'pluto', 'minni']\n",
      "['pippo', 'pluto', 'minni']\n",
      "['pippo', 'pluto', 'minni']\n",
      "['pippo', 'pluto', 'minni']\n",
      "['pippo', 'pluto', 'minni']\n",
      "5 print for the set\n",
      "{'minni', 'pippo', 'pluto'}\n",
      "{'minni', 'pippo', 'pluto'}\n",
      "{'minni', 'pippo', 'pluto'}\n",
      "{'minni', 'pippo', 'pluto'}\n",
      "{'minni', 'pippo', 'pluto'}\n",
      "5 print for the dict\n",
      "{'pippo': 1, 'pluto': 1, 'minni': 1}\n",
      "pippo\n",
      "pluto\n",
      "minni\n",
      "pippo\n",
      "pluto\n",
      "minni\n",
      "{'pippo': 1, 'pluto': 1, 'minni': 1}\n",
      "pippo\n",
      "pluto\n",
      "minni\n",
      "pippo\n",
      "pluto\n",
      "minni\n",
      "{'pippo': 1, 'pluto': 1, 'minni': 1}\n",
      "pippo\n",
      "pluto\n",
      "minni\n",
      "pippo\n",
      "pluto\n",
      "minni\n",
      "{'pippo': 1, 'pluto': 1, 'minni': 1}\n",
      "pippo\n",
      "pluto\n",
      "minni\n",
      "pippo\n",
      "pluto\n",
      "minni\n",
      "{'pippo': 1, 'pluto': 1, 'minni': 1}\n",
      "pippo\n",
      "pluto\n",
      "minni\n",
      "pippo\n",
      "pluto\n",
      "minni\n"
     ]
    }
   ],
   "source": [
    "#List are ordered structure, dictionary and set are not\n",
    "listTest=['pippo','pluto','minni']\n",
    "setTest={'pippo','pluto','minni'}\n",
    "dictTest={'pippo':1,'pluto':1,'minni':1}\n",
    "print('5 print for the list')\n",
    "for i in range(0,5):\n",
    "    print(listTest)\n",
    "print('5 print for the set')\n",
    "for i in range(0,5):\n",
    "    print(setTest)\n",
    "print('5 print for the dict')\n",
    "for i in range(0,5):\n",
    "    print(dictTest) "
   ]
  },
  {
   "cell_type": "code",
   "execution_count": 14,
   "metadata": {},
   "outputs": [
    {
     "name": "stdout",
     "output_type": "stream",
     "text": [
      "s2 is a sub set of s1? True\n",
      "s2 is a sub set of s1? True\n",
      "s2 is a sub set of s1? False\n",
      "{2, 3}\n",
      "{1, 4}\n",
      "{1, 4, 5}\n"
     ]
    }
   ],
   "source": [
    "#Others operation on sets\n",
    "s1={1,2,3,4}\n",
    "s2={2,3}\n",
    "s3={2,3,5}\n",
    "print('s2 is a sub set of s1? %s'%s2.issubset(s1))\n",
    "print('s2 is a sub set of s1? %s'%(s2<s1))\n",
    "print('s2 is a sub set of s1? %s'%s3.issubset(s1))\n",
    "pp(s1.intersection(s2))\n",
    "pp(s1.difference(s2))\n",
    "pp(s1.symmetric_difference(s3))"
   ]
  },
  {
   "cell_type": "markdown",
   "metadata": {},
   "source": [
    "**NOTE:** dictionaries and set are refernce"
   ]
  },
  {
   "cell_type": "code",
   "execution_count": 18,
   "metadata": {},
   "outputs": [
    {
     "name": "stdout",
     "output_type": "stream",
     "text": [
      "20 is being added to s1\n",
      "{1, 2, 3, 4, 20}\n",
      "30 is being added to s1copy but not to s1\n",
      "{1, 2, 3, 4, 20, 30}\n",
      "{1, 2, 3, 4, 20}\n",
      "{'a': 1, 'b': 2, 'c': 3}\n",
      "{'a': 1, 'b': 2, 'c': 3}\n",
      "{'a': 1, 'b': 2, 'c': 3, 'd': 4}\n"
     ]
    }
   ],
   "source": [
    "s1bis=s1\n",
    "s1bis.add(20)\n",
    "#s1bis a pointer to s1\n",
    "print('20 is being added to s1')\n",
    "pp(s1)\n",
    "#s1copy is a new set\n",
    "s1copy=s1.copy()\n",
    "s1copy.add(30)\n",
    "print('30 is being added to s1copy but not to s1')\n",
    "pp(s1copy)\n",
    "pp(s1)\n",
    "#This is true also for dict\n",
    "d1={'a':1,'b':2}\n",
    "d1bis=d1\n",
    "d1bis['c']=3\n",
    "pp(d1)\n",
    "d1copy=d1.copy()\n",
    "d1copy['d']=4\n",
    "pp(d1)\n",
    "pp(d1copy)"
   ]
  },
  {
   "cell_type": "markdown",
   "metadata": {},
   "source": [
    "## Exercise\n",
    "\n",
    "Create a dictionary with some keys and values.\n",
    "\n",
    "Use the value of the dictionary to create a list.\n",
    "\n",
    "Add an element of your choiche at the end of the list.\n",
    "\n",
    "Do the same thing witha tuple."
   ]
  }
 ],
 "metadata": {
  "kernelspec": {
   "display_name": "Python 3",
   "language": "python",
   "name": "python3"
  },
  "language_info": {
   "codemirror_mode": {
    "name": "ipython",
    "version": 3
   },
   "file_extension": ".py",
   "mimetype": "text/x-python",
   "name": "python",
   "nbconvert_exporter": "python",
   "pygments_lexer": "ipython3",
   "version": "3.6.5"
  }
 },
 "nbformat": 4,
 "nbformat_minor": 2
}
