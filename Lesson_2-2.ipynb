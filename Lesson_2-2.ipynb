{
 "cells": [
  {
   "cell_type": "markdown",
   "metadata": {
    "slideshow": {
     "slide_type": "slide"
    }
   },
   "source": [
    "Introduction to Python\n",
    "================================\n",
    "\n",
    "Lesson 2\n",
    "--------"
   ]
  },
  {
   "cell_type": "markdown",
   "metadata": {
    "slideshow": {
     "slide_type": "slide"
    }
   },
   "source": [
    "## Summary\n",
    "\n",
    "In this Lesson we will start using Python in order to create some models.\n",
    "\n",
    "The models that we will create are:\n",
    "  - Linear\n",
    "\n",
    "In order to do so we must intruduce some important libraries:\n",
    "\n",
    "  - Pandas\n",
    "  - Sklearn\n",
    "  - Numpy"
   ]
  },
  {
   "cell_type": "code",
   "execution_count": null,
   "metadata": {
    "slideshow": {
     "slide_type": "skip"
    }
   },
   "outputs": [],
   "source": [
    "%load_ext rpy2.ipython"
   ]
  },
  {
   "cell_type": "markdown",
   "metadata": {
    "slideshow": {
     "slide_type": "slide"
    }
   },
   "source": [
    "## Numpy\n",
    "\n",
    "Citing from the [Numpy Website](http://www.numpy.org/) :NumPy is the fundamental package for scientific computing with Python. It contains among other things:\n",
    "  - a powerful N-dimensional array object\n",
    "  - sophisticated (broadcasting) functions\n",
    "  - tools for integrating C/C++ and Fortran code\n",
    "  - useful linear algebra, Fourier transform, and random number capabilities\n",
    "Fior the moment our focus is on the first point, in oder to start usign proper arrays."
   ]
  },
  {
   "cell_type": "code",
   "execution_count": null,
   "metadata": {
    "slideshow": {
     "slide_type": "subslide"
    }
   },
   "outputs": [],
   "source": [
    "import numpy as np\n",
    "#Creation of an array\n",
    "ar1=np.array([1,2,3])\n",
    "print('type di ar1',type(ar1))"
   ]
  },
  {
   "cell_type": "code",
   "execution_count": null,
   "metadata": {
    "slideshow": {
     "slide_type": "fragment"
    }
   },
   "outputs": [],
   "source": [
    "#Use shape to see the dimension of ar1\n",
    "print('Dimension of ar1 are:',ar1.shape)\n",
    "try:\n",
    "    print('Using .shape()')\n",
    "    print(ar1,ar1.shape())\n",
    "except Exception as e:\n",
    "    print('ERROR:',e)\n",
    "    print('You must use .shape without brackets')\n",
    "    print(ar1,ar1.shape)"
   ]
  },
  {
   "cell_type": "code",
   "execution_count": null,
   "metadata": {
    "slideshow": {
     "slide_type": "fragment"
    }
   },
   "outputs": [],
   "source": [
    "#Creation of a multimensional array\n",
    "ar2=np.array([[1,2,3],[4,5,6]])#,dtype=complex\n",
    "print('Shape di ar2',ar2.shape)\n",
    "print(ar2)\n",
    "len(ar2)"
   ]
  },
  {
   "cell_type": "markdown",
   "metadata": {
    "slideshow": {
     "slide_type": "fragment"
    }
   },
   "source": [
    "**NOTE**: array and matrix in nupy are different objects"
   ]
  },
  {
   "cell_type": "code",
   "execution_count": null,
   "metadata": {
    "slideshow": {
     "slide_type": "fragment"
    }
   },
   "outputs": [],
   "source": [
    "#Creatiomn of a matrix\n",
    "mt=np.mat('1 2;3 4')\n",
    "print(type(mt),mt)\n",
    "#Putting the matrix inside an array\n",
    "ar3=np.array(np.mat('1 2; 3 4'))\n",
    "print(type(ar3),ar3)\n",
    "#In order to keep the correct type\n",
    "ar3=np.array(np.mat('1 2; 3 4'), subok=True)\n",
    "print(type(ar3),ar3)\n",
    "ar3\n",
    "# mt\n",
    "# ar2[1,]"
   ]
  },
  {
   "cell_type": "code",
   "execution_count": null,
   "metadata": {
    "slideshow": {
     "slide_type": "fragment"
    }
   },
   "outputs": [],
   "source": [
    "print(ar2)\n",
    "ar2_bis=ar2#.copy()\n",
    "ar2_bis[1,]=[1,1,1]\n",
    "print(ar2)\n",
    "ar2_bis"
   ]
  },
  {
   "cell_type": "markdown",
   "metadata": {
    "slideshow": {
     "slide_type": "slide"
    }
   },
   "source": [
    "## Other properties of np.array\n",
    "\n",
    "Just to mention some other features, we can look to append:"
   ]
  },
  {
   "cell_type": "code",
   "execution_count": null,
   "metadata": {
    "slideshow": {
     "slide_type": "subslide"
    }
   },
   "outputs": [],
   "source": [
    "ap1=np.append([1, 2, 3], [[4, 5, 6], [7, 8, 9]])\n",
    "print(ap1,type(ap1))\n",
    "#Please note that the result is flattened\n",
    "ap2=np.append([[1, 2, 3]], [[4, 5, 6], [7, 8, 9]], axis=0)\n",
    "print(ap2,type(ap2))\n",
    "ap3=np.append([[1, 2, 3],[1,1,1]], [[4, 5, 6], [7, 8, 9]], axis=1)\n",
    "print(ap3,type(ap3))"
   ]
  },
  {
   "cell_type": "markdown",
   "metadata": {
    "slideshow": {
     "slide_type": "slide"
    }
   },
   "source": [
    "## Comparison between array an list\n",
    "\n",
    "Let's understand why for big data it's important to use an array istead of a list.\n",
    "\n",
    "We are going to do the sum of the list and two array. In one case is the sum of number, in the other the sum between two arrays like in linear algebra."
   ]
  },
  {
   "cell_type": "code",
   "execution_count": null,
   "metadata": {
    "slideshow": {
     "slide_type": "subslide"
    }
   },
   "outputs": [],
   "source": [
    "a=[i for i in range(0,10000)]\n",
    "%timeit -n 100 s=a+a\n",
    "b=np.array([i for i in range(0,10000)])\n",
    "%timeit -n 100 s2=b+b"
   ]
  },
  {
   "cell_type": "code",
   "execution_count": null,
   "metadata": {
    "slideshow": {
     "slide_type": "fragment"
    }
   },
   "outputs": [],
   "source": [
    "%%R\n",
    "c=as.integer(seq(1,10))\n",
    "print(class(c))\n",
    "d=data.frame(c)\n",
    "print(class(d))"
   ]
  },
  {
   "cell_type": "code",
   "execution_count": null,
   "metadata": {
    "slideshow": {
     "slide_type": "fragment"
    }
   },
   "outputs": [],
   "source": [
    "%%timeit -n 100\n",
    "%R c+c"
   ]
  },
  {
   "cell_type": "code",
   "execution_count": null,
   "metadata": {
    "slideshow": {
     "slide_type": "fragment"
    }
   },
   "outputs": [],
   "source": [
    "%%timeit -n 100\n",
    "%R d+d"
   ]
  },
  {
   "cell_type": "markdown",
   "metadata": {
    "slideshow": {
     "slide_type": "slide"
    }
   },
   "source": [
    "## Pandas \n",
    "\n",
    "Citing the [Pandas Website](https://pandas.pydata.org/): *pandas is an open source, BSD-licensed library providing high-performance, easy-to-use data structures and data analysis tools for the Python programming language*.\n",
    "\n",
    "What interest us the most is the possibility of create and use, like in R, **dataframes** ([Pandas DataFrame](https://pandas.pydata.org/pandas-docs/stable/generated/pandas.DataFrame.html))."
   ]
  },
  {
   "cell_type": "code",
   "execution_count": 84,
   "metadata": {
    "slideshow": {
     "slide_type": "subslide"
    }
   },
   "outputs": [
    {
     "name": "stdout",
     "output_type": "stream",
     "text": [
      "   a  b\n",
      "0  1  4\n",
      "1  2  5\n",
      "2  3  6 \n",
      " <class 'pandas.core.frame.DataFrame'>\n",
      "            max_speed  shield\n",
      "cobra               1       2\n",
      "viper               4       5\n",
      "sidewinder          7       8\n",
      "<class 'pandas.core.frame.DataFrame'>\n"
     ]
    },
    {
     "data": {
      "application/vnd.jupyter.widget-view+json": {
       "model_id": "74cb9e5f84d84a4ba484c7937282c03b",
       "version_major": 2,
       "version_minor": 0
      }
     },
     "metadata": {},
     "output_type": "display_data"
    }
   ],
   "source": [
    "import pandas as pd\n",
    "\n",
    "#Creation of a dataframe\n",
    "df=pd.DataFrame({'a':[1,2,3],'b':[4,5,6]})\n",
    "print(df,'\\n',type(df))\n",
    "#Creatiion of a dataframe with index\n",
    "df2 = pd.DataFrame([[1, 2], [4, 5], [7, 8]],\n",
    "                  index=['cobra', 'viper', 'sidewinder'],\n",
    "                  columns=['max_speed', 'shield'])\n",
    "print(df2)\n",
    "print(type(df2))\n",
    "df3=pd.DataFrame({'col1':[10,20,30],'col2':['y','z','k']},index=['a','b','c'])\n",
    "df3"
   ]
  },
  {
   "cell_type": "markdown",
   "metadata": {
    "slideshow": {
     "slide_type": "slide"
    }
   },
   "source": [
    "## Properties of a dataframe\n",
    "\n",
    "In the followig cell there is a sample of attributes ad properties of a pandas dataframe.\n",
    "\n",
    "Some of them are:\n",
    "\n",
    "  - `index`\n",
    "  - `values`\n",
    "  - `max()`\n",
    "  - `add()`"
   ]
  },
  {
   "cell_type": "code",
   "execution_count": 101,
   "metadata": {
    "slideshow": {
     "slide_type": "subslide"
    }
   },
   "outputs": [
    {
     "name": "stdout",
     "output_type": "stream",
     "text": [
      "   a  b\n",
      "0  1  4\n",
      "1  2  5\n",
      "2  3  6\n"
     ]
    },
    {
     "data": {
      "application/vnd.jupyter.widget-view+json": {
       "model_id": "53d2b89817bf4a47ad3e72dff5251ed9",
       "version_major": 2,
       "version_minor": 0
      }
     },
     "metadata": {},
     "output_type": "display_data"
    }
   ],
   "source": [
    "#%qtconsole\n",
    "print(df)\n",
    "df.index\n",
    "df.values\n",
    "df.max()\n",
    "df.min()\n",
    "df.mean()\n",
    "df.median()\n",
    "df.add(df)\n",
    "df\n",
    "#se the link above"
   ]
  },
  {
   "cell_type": "markdown",
   "metadata": {
    "slideshow": {
     "slide_type": "slide"
    }
   },
   "source": [
    "## How to select row and columns\n",
    "\n",
    "Let's dive a little bit more in some dataframes property.\n",
    "\n",
    "Important functions for selecting dataframe's elements are:\n",
    "  - `index` \n",
    "  - `loc`\n",
    "  - `iloc`\n",
    " \n",
    "The difference between `loc` and `iloc` is subtle\n",
    "`loc` allow to select elemets by **name**\n",
    "`iloc` allow to select elemets by **position**\n",
    "\n",
    "It always possible to select columns by name with `[[]]`."
   ]
  },
  {
   "cell_type": "code",
   "execution_count": 47,
   "metadata": {
    "slideshow": {
     "slide_type": "subslide"
    }
   },
   "outputs": [
    {
     "name": "stdout",
     "output_type": "stream",
     "text": [
      "df3 before the cration of the index\n",
      "   val1  val2    city\n",
      "0    10    -1    Roma\n",
      "1    20    -2  Milano\n",
      "2    30    -3  Napoli\n",
      "   val1  val2    city\n",
      "0    10    -1    Roma\n",
      "1    20    -2  Milano\n",
      "2    30    -3  Napoli\n"
     ]
    }
   ],
   "source": [
    "#Creation of a dataframe without an index\n",
    "dfCity=pd.DataFrame({'val1':[10,20,30],'val2':[-1,-2,-3],'city':['Roma','Milano','Napoli']})\n",
    "print('dfCity before the cration of the index')\n",
    "print(dfCity)\n",
    "#Selecting one column as index\n",
    "dfCity.set_index('city')#inplace\n",
    "print(dfCity)"
   ]
  },
  {
   "cell_type": "code",
   "execution_count": null,
   "metadata": {
    "slideshow": {
     "slide_type": "subslide"
    }
   },
   "outputs": [],
   "source": [
    "#Selecting column by name\n",
    "print('Selection of a column by name')\n",
    "print(df[['a']])\n",
    "print('Selectig using loc')\n",
    "print(df.loc[1])\n",
    "#Select column by index\n",
    "print('Print of the second colum')\n",
    "print(df.iloc[:,1])"
   ]
  },
  {
   "cell_type": "markdown",
   "metadata": {
    "slideshow": {
     "slide_type": "subslide"
    }
   },
   "source": [
    "Let's focus a little bit on the difference between `loc` and `iloc`:"
   ]
  },
  {
   "cell_type": "code",
   "execution_count": null,
   "metadata": {
    "slideshow": {
     "slide_type": "fragment"
    }
   },
   "outputs": [],
   "source": [
    "print(df2)\n",
    "print('selection of cobra',df2.loc['cobra'])\n",
    "print('Selection of row and column with loc',df2.loc['cobra','max_speed'])\n",
    "print('Selection of row and column with iloc',df2.iloc[0,0])"
   ]
  },
  {
   "cell_type": "code",
   "execution_count": 46,
   "metadata": {
    "slideshow": {
     "slide_type": "fragment"
    }
   },
   "outputs": [
    {
     "name": "stdout",
     "output_type": "stream",
     "text": [
      "   a  b\n",
      "0  1  4\n",
      "1  2  5\n",
      "2  3  6\n",
      "Selection with loc a    1\n",
      "b    4\n",
      "Name: 0, dtype: int64\n",
      "Selection with iloc a    1\n",
      "b    4\n",
      "Name: 0, dtype: int64\n",
      "df after the change of the index:\n",
      "   a  b\n",
      "1  1  4\n",
      "2  2  5\n",
      "0  3  6\n",
      "loc:\n",
      " a    3\n",
      "b    6\n",
      "Name: 0, dtype: int64 \n",
      " iloc:\n",
      " a    1\n",
      "b    4\n",
      "Name: 1, dtype: int64\n"
     ]
    }
   ],
   "source": [
    "print(df)\n",
    "print('Selection with loc',df.loc[0])\n",
    "print('Selection with iloc',df.iloc[0])\n",
    "#Change of index\n",
    "df.index=[1,2,0]\n",
    "print('df after the change of the index:')\n",
    "print(df)\n",
    "print('loc:\\n',df.loc[0],'\\n iloc:\\n',df.iloc[0])"
   ]
  },
  {
   "cell_type": "markdown",
   "metadata": {
    "slideshow": {
     "slide_type": "slide"
    }
   },
   "source": [
    "## Drop and other suff\n",
    "\n",
    "After the selction of columns and rows let's focus on how to `drop` a column (aka selct out) from a dataframe.\n",
    "\n",
    "We'll also se how to print a dataframe in a pretty way unsing `IPython.display`."
   ]
  },
  {
   "cell_type": "code",
   "execution_count": 64,
   "metadata": {
    "slideshow": {
     "slide_type": "subslide"
    }
   },
   "outputs": [
    {
     "data": {
      "application/vnd.jupyter.widget-view+json": {
       "model_id": "ee8bae0584314b698236231455679ab5",
       "version_major": 2,
       "version_minor": 0
      }
     },
     "metadata": {},
     "output_type": "display_data"
    },
    {
     "data": {
      "text/html": [
       "<table border=\"1\" class=\"dataframe\">\n",
       "  <thead>\n",
       "    <tr style=\"text-align: right;\">\n",
       "      <th></th>\n",
       "      <th>a</th>\n",
       "      <th>b</th>\n",
       "      <th>c</th>\n",
       "    </tr>\n",
       "  </thead>\n",
       "  <tbody>\n",
       "    <tr>\n",
       "      <th>0</th>\n",
       "      <td>1</td>\n",
       "      <td>4</td>\n",
       "      <td>0</td>\n",
       "    </tr>\n",
       "    <tr>\n",
       "      <th>1</th>\n",
       "      <td>2</td>\n",
       "      <td>5</td>\n",
       "      <td>0</td>\n",
       "    </tr>\n",
       "    <tr>\n",
       "      <th>2</th>\n",
       "      <td>3</td>\n",
       "      <td>6</td>\n",
       "      <td>0</td>\n",
       "    </tr>\n",
       "  </tbody>\n",
       "</table>"
      ],
      "text/plain": [
       "<IPython.core.display.HTML object>"
      ]
     },
     "metadata": {},
     "output_type": "display_data"
    }
   ],
   "source": [
    "from IPython.display import display, HTML\n",
    "df=pd.DataFrame({'a':[1,2,3],'b':[4,5,6]})\n",
    "#We can add a column afterward\n",
    "df['c']=[0,0,0]\n",
    "display(df)\n",
    "#Alternative\n",
    "display(HTML(df.to_html()))"
   ]
  },
  {
   "cell_type": "code",
   "execution_count": 67,
   "metadata": {},
   "outputs": [
    {
     "data": {
      "application/vnd.jupyter.widget-view+json": {
       "model_id": "61d67c905381470699c589056375c75a",
       "version_major": 2,
       "version_minor": 0
      }
     },
     "metadata": {},
     "output_type": "display_data"
    },
    {
     "data": {
      "application/vnd.jupyter.widget-view+json": {
       "model_id": "796a84f8e5684384be524a498a36812f",
       "version_major": 2,
       "version_minor": 0
      }
     },
     "metadata": {},
     "output_type": "display_data"
    },
    {
     "data": {
      "application/vnd.jupyter.widget-view+json": {
       "model_id": "b0ad8643fb9b44e6b722cf259d4af29d",
       "version_major": 2,
       "version_minor": 0
      }
     },
     "metadata": {},
     "output_type": "display_data"
    }
   ],
   "source": [
    "#Let's drop c from df\n",
    "df=pd.DataFrame({'a':[1,2,3],'b':[4,5,6],'c':[0,0,0]})\n",
    "df.drop(['c'],axis=1)\n",
    "display(df)\n",
    "df.drop(columns=['b'],inplace=True)\n",
    "display(df)\n",
    "df.columns=['aaa','ccc']\n",
    "display(df)"
   ]
  },
  {
   "cell_type": "code",
   "execution_count": 81,
   "metadata": {},
   "outputs": [
    {
     "name": "stdout",
     "output_type": "stream",
     "text": [
      "dropna with orig\n"
     ]
    },
    {
     "data": {
      "application/vnd.jupyter.widget-view+json": {
       "model_id": "52fcd23477ee44d6a81007689e11728f",
       "version_major": 2,
       "version_minor": 0
      }
     },
     "metadata": {},
     "output_type": "display_data"
    },
    {
     "name": "stdout",
     "output_type": "stream",
     "text": [
      "dropna with nothing\n"
     ]
    },
    {
     "data": {
      "application/vnd.jupyter.widget-view+json": {
       "model_id": "3190ed8a1b9d4cc9ac33b049903aef94",
       "version_major": 2,
       "version_minor": 0
      }
     },
     "metadata": {},
     "output_type": "display_data"
    },
    {
     "name": "stdout",
     "output_type": "stream",
     "text": [
      "dropna with axis=0\n"
     ]
    },
    {
     "data": {
      "application/vnd.jupyter.widget-view+json": {
       "model_id": "50a12279bdfd4b5d8c4dc523294f52a8",
       "version_major": 2,
       "version_minor": 0
      }
     },
     "metadata": {},
     "output_type": "display_data"
    },
    {
     "name": "stdout",
     "output_type": "stream",
     "text": [
      "dropna with axis=1\n"
     ]
    },
    {
     "data": {
      "application/vnd.jupyter.widget-view+json": {
       "model_id": "aeef37cd3fa14581a1abe06448680bef",
       "version_major": 2,
       "version_minor": 0
      }
     },
     "metadata": {},
     "output_type": "display_data"
    },
    {
     "name": "stdout",
     "output_type": "stream",
     "text": [
      "dropna with how=any\n"
     ]
    },
    {
     "data": {
      "application/vnd.jupyter.widget-view+json": {
       "model_id": "b7a5b1deff68483a8d3778c8a96ca4c8",
       "version_major": 2,
       "version_minor": 0
      }
     },
     "metadata": {},
     "output_type": "display_data"
    },
    {
     "name": "stdout",
     "output_type": "stream",
     "text": [
      "dropna with how=all\n"
     ]
    },
    {
     "data": {
      "application/vnd.jupyter.widget-view+json": {
       "model_id": "c597e23162e846ee9d05870ef3edf2ff",
       "version_major": 2,
       "version_minor": 0
      }
     },
     "metadata": {},
     "output_type": "display_data"
    }
   ],
   "source": [
    "dfNan=pd.DataFrame([[1,np.nan,'pippo'],[2,'b','pluto'],[3,'c','topolino'],[np.nan,np.nan,'minnie']])\n",
    "dict2Print={'orig':dfNan,'nothing':dfNan.dropna(),\n",
    "            'axis=0':dfNan.dropna(axis=0),\n",
    "            'axis=1':dfNan.dropna(axis=1),\n",
    "           'how=any':dfNan.dropna(how='any'),\n",
    "           'how=all':dfNan.dropna(how='all')}\n",
    "for curConf,curDF in dict2Print.items():\n",
    "    print('dropna with %s'%curConf)\n",
    "    display(curDF)"
   ]
  },
  {
   "cell_type": "code",
   "execution_count": 19,
   "metadata": {},
   "outputs": [
    {
     "name": "stdout",
     "output_type": "stream",
     "text": [
      "            0         1         2         3         4         5         6  \\\n",
      "0    0.038076  0.050680  0.061696  0.021872 -0.044223 -0.034821 -0.043401   \n",
      "1   -0.001882 -0.044642 -0.051474 -0.026328 -0.008449 -0.019163  0.074412   \n",
      "2    0.085299  0.050680  0.044451 -0.005671 -0.045599 -0.034194 -0.032356   \n",
      "3   -0.089063 -0.044642 -0.011595 -0.036656  0.012191  0.024991 -0.036038   \n",
      "4    0.005383 -0.044642 -0.036385  0.021872  0.003935  0.015596  0.008142   \n",
      "5   -0.092695 -0.044642 -0.040696 -0.019442 -0.068991 -0.079288  0.041277   \n",
      "6   -0.045472  0.050680 -0.047163 -0.015999 -0.040096 -0.024800  0.000779   \n",
      "7    0.063504  0.050680 -0.001895  0.066630  0.090620  0.108914  0.022869   \n",
      "8    0.041708  0.050680  0.061696 -0.040099 -0.013953  0.006202 -0.028674   \n",
      "9   -0.070900 -0.044642  0.039062 -0.033214 -0.012577 -0.034508 -0.024993   \n",
      "10  -0.096328 -0.044642 -0.083808  0.008101 -0.103389 -0.090561 -0.013948   \n",
      "11   0.027178  0.050680  0.017506 -0.033214 -0.007073  0.045972 -0.065491   \n",
      "12   0.016281 -0.044642 -0.028840 -0.009113 -0.004321 -0.009769  0.044958   \n",
      "13   0.005383  0.050680 -0.001895  0.008101 -0.004321 -0.015719 -0.002903   \n",
      "14   0.045341 -0.044642 -0.025607 -0.012556  0.017694 -0.000061  0.081775   \n",
      "15  -0.052738  0.050680 -0.018062  0.080401  0.089244  0.107662 -0.039719   \n",
      "16  -0.005515 -0.044642  0.042296  0.049415  0.024574 -0.023861  0.074412   \n",
      "17   0.070769  0.050680  0.012117  0.056301  0.034206  0.049416 -0.039719   \n",
      "18  -0.038207 -0.044642 -0.010517 -0.036656 -0.037344 -0.019476 -0.028674   \n",
      "19  -0.027310 -0.044642 -0.018062 -0.040099 -0.002945 -0.011335  0.037595   \n",
      "20  -0.049105 -0.044642 -0.056863 -0.043542 -0.045599 -0.043276  0.000779   \n",
      "21  -0.085430  0.050680 -0.022373  0.001215 -0.037344 -0.026366  0.015505   \n",
      "22  -0.085430 -0.044642 -0.004050 -0.009113 -0.002945  0.007767  0.022869   \n",
      "23   0.045341  0.050680  0.060618  0.031053  0.028702 -0.047347 -0.054446   \n",
      "24  -0.063635 -0.044642  0.035829 -0.022885 -0.030464 -0.018850 -0.006584   \n",
      "25  -0.067268  0.050680 -0.012673 -0.040099 -0.015328  0.004636 -0.058127   \n",
      "26  -0.107226 -0.044642 -0.077342 -0.026328 -0.089630 -0.096198  0.026550   \n",
      "27  -0.023677 -0.044642  0.059541 -0.040099 -0.042848 -0.043589  0.011824   \n",
      "28   0.052606 -0.044642 -0.021295 -0.074528 -0.040096 -0.037639 -0.006584   \n",
      "29   0.067136  0.050680 -0.006206  0.063187 -0.042848 -0.095885  0.052322   \n",
      "..        ...       ...       ...       ...       ...       ...       ...   \n",
      "412  0.074401 -0.044642  0.085408  0.063187  0.014942  0.013091  0.015505   \n",
      "413 -0.052738 -0.044642 -0.000817 -0.026328  0.010815  0.007141  0.048640   \n",
      "414  0.081666  0.050680  0.006728 -0.004523  0.109883  0.117056 -0.032356   \n",
      "415 -0.005515 -0.044642  0.008883 -0.050428  0.025950  0.047224 -0.043401   \n",
      "416 -0.027310 -0.044642  0.080019  0.098763 -0.002945  0.018101 -0.017629   \n",
      "417 -0.052738 -0.044642  0.071397 -0.074528 -0.015328 -0.001314  0.004460   \n",
      "418  0.009016 -0.044642 -0.024529 -0.026328  0.098876  0.094196  0.070730   \n",
      "419 -0.020045 -0.044642 -0.054707 -0.053871 -0.066239 -0.057367  0.011824   \n",
      "420  0.023546 -0.044642 -0.036385  0.000068  0.001183  0.034698 -0.043401   \n",
      "421  0.038076  0.050680  0.016428  0.021872  0.039710  0.045032 -0.043401   \n",
      "422 -0.078165  0.050680  0.077863  0.052858  0.078236  0.064447  0.026550   \n",
      "423  0.009016  0.050680 -0.039618  0.028758  0.038334  0.073529 -0.072854   \n",
      "424  0.001751  0.050680  0.011039 -0.019442 -0.016704 -0.003819 -0.047082   \n",
      "425 -0.078165 -0.044642 -0.040696 -0.081414 -0.100638 -0.112795  0.022869   \n",
      "426  0.030811  0.050680 -0.034229  0.043677  0.057597  0.068831 -0.032356   \n",
      "427 -0.034575  0.050680  0.005650 -0.005671 -0.073119 -0.062691 -0.006584   \n",
      "428  0.048974  0.050680  0.088642  0.087287  0.035582  0.021546 -0.024993   \n",
      "429 -0.041840 -0.044642 -0.033151 -0.022885  0.046589  0.041587  0.056003   \n",
      "430 -0.009147 -0.044642 -0.056863 -0.050428  0.021822  0.045345 -0.028674   \n",
      "431  0.070769  0.050680 -0.030996  0.021872 -0.037344 -0.047034  0.033914   \n",
      "432  0.009016 -0.044642  0.055229 -0.005671  0.057597  0.044719 -0.002903   \n",
      "433 -0.027310 -0.044642 -0.060097 -0.029771  0.046589  0.019980  0.122273   \n",
      "434  0.016281 -0.044642  0.001339  0.008101  0.005311  0.010899  0.030232   \n",
      "435 -0.012780 -0.044642 -0.023451 -0.040099 -0.016704  0.004636 -0.017629   \n",
      "436 -0.056370 -0.044642 -0.074108 -0.050428 -0.024960 -0.047034  0.092820   \n",
      "437  0.041708  0.050680  0.019662  0.059744 -0.005697 -0.002566 -0.028674   \n",
      "438 -0.005515  0.050680 -0.015906 -0.067642  0.049341  0.079165 -0.028674   \n",
      "439  0.041708  0.050680 -0.015906  0.017282 -0.037344 -0.013840 -0.024993   \n",
      "440 -0.045472 -0.044642  0.039062  0.001215  0.016318  0.015283 -0.028674   \n",
      "441 -0.045472 -0.044642 -0.073030 -0.081414  0.083740  0.027809  0.173816   \n",
      "\n",
      "            7         8         9  \n",
      "0   -0.002592  0.019908 -0.017646  \n",
      "1   -0.039493 -0.068330 -0.092204  \n",
      "2   -0.002592  0.002864 -0.025930  \n",
      "3    0.034309  0.022692 -0.009362  \n",
      "4   -0.002592 -0.031991 -0.046641  \n",
      "5   -0.076395 -0.041180 -0.096346  \n",
      "6   -0.039493 -0.062913 -0.038357  \n",
      "7    0.017703 -0.035817  0.003064  \n",
      "8   -0.002592 -0.014956  0.011349  \n",
      "9   -0.002592  0.067736 -0.013504  \n",
      "10  -0.076395 -0.062913 -0.034215  \n",
      "11   0.071210 -0.096433 -0.059067  \n",
      "12  -0.039493 -0.030751 -0.042499  \n",
      "13  -0.002592  0.038393 -0.013504  \n",
      "14  -0.039493 -0.031991 -0.075636  \n",
      "15   0.108111  0.036056 -0.042499  \n",
      "16  -0.039493  0.052280  0.027917  \n",
      "17   0.034309  0.027368 -0.001078  \n",
      "18  -0.002592 -0.018118 -0.017646  \n",
      "19  -0.039493 -0.008944 -0.054925  \n",
      "20  -0.039493 -0.011901  0.015491  \n",
      "21  -0.039493 -0.072128 -0.017646  \n",
      "22  -0.039493 -0.061177 -0.013504  \n",
      "23   0.071210  0.133599  0.135612  \n",
      "24  -0.002592 -0.025952 -0.054925  \n",
      "25   0.034309  0.019199 -0.034215  \n",
      "26  -0.076395 -0.042572 -0.005220  \n",
      "27  -0.039493 -0.015998  0.040343  \n",
      "28  -0.039493 -0.000609 -0.054925  \n",
      "29  -0.076395  0.059424  0.052770  \n",
      "..        ...       ...       ...  \n",
      "412 -0.002592  0.006209  0.085907  \n",
      "413 -0.039493 -0.035817  0.019633  \n",
      "414  0.091875  0.054724  0.007207  \n",
      "415  0.071210  0.014823  0.003064  \n",
      "416  0.003312 -0.029528  0.036201  \n",
      "417 -0.021412 -0.046879  0.003064  \n",
      "418 -0.002592 -0.021394  0.007207  \n",
      "419 -0.039493 -0.074089 -0.005220  \n",
      "420  0.034309 -0.033249  0.061054  \n",
      "421  0.071210  0.049769  0.015491  \n",
      "422 -0.002592  0.040672 -0.009362  \n",
      "423  0.108111  0.015567 -0.046641  \n",
      "424  0.034309  0.024053  0.023775  \n",
      "425 -0.076395 -0.020289 -0.050783  \n",
      "426  0.057557  0.035462  0.085907  \n",
      "427 -0.039493 -0.045421  0.032059  \n",
      "428  0.034309  0.066048  0.131470  \n",
      "429 -0.024733 -0.025952 -0.038357  \n",
      "430  0.034309 -0.009919 -0.017646  \n",
      "431 -0.039493 -0.014956 -0.001078  \n",
      "432  0.023239  0.055684  0.106617  \n",
      "433 -0.039493 -0.051401 -0.009362  \n",
      "434 -0.039493 -0.045421  0.032059  \n",
      "435 -0.002592 -0.038459 -0.038357  \n",
      "436 -0.076395 -0.061177 -0.046641  \n",
      "437 -0.002592  0.031193  0.007207  \n",
      "438  0.034309 -0.018118  0.044485  \n",
      "439 -0.011080 -0.046879  0.015491  \n",
      "440  0.026560  0.044528 -0.025930  \n",
      "441 -0.039493 -0.004220  0.003064  \n",
      "\n",
      "[442 rows x 10 columns] [[ 0.03807591]\n",
      " [-0.00188202]\n",
      " [ 0.08529891]\n",
      " [-0.08906294]\n",
      " [ 0.00538306]\n",
      " [-0.09269548]\n",
      " [-0.04547248]\n",
      " [ 0.06350368]\n",
      " [ 0.04170844]\n",
      " [-0.07090025]\n",
      " [-0.09632802]\n",
      " [ 0.02717829]\n",
      " [ 0.01628068]\n",
      " [ 0.00538306]\n",
      " [ 0.04534098]\n",
      " [-0.05273755]\n",
      " [-0.00551455]\n",
      " [ 0.07076875]\n",
      " [-0.0382074 ]\n",
      " [-0.02730979]\n",
      " [-0.04910502]\n",
      " [-0.0854304 ]\n",
      " [-0.0854304 ]\n",
      " [ 0.04534098]\n",
      " [-0.06363517]\n",
      " [-0.06726771]\n",
      " [-0.10722563]\n",
      " [-0.02367725]\n",
      " [ 0.05260606]\n",
      " [ 0.06713621]\n",
      " [-0.06000263]\n",
      " [-0.02367725]\n",
      " [ 0.03444337]\n",
      " [ 0.03081083]\n",
      " [ 0.01628068]\n",
      " [ 0.04897352]\n",
      " [ 0.01264814]\n",
      " [-0.00914709]\n",
      " [-0.00188202]\n",
      " [-0.00188202]\n",
      " [ 0.00538306]\n",
      " [-0.09996055]\n",
      " [-0.06000263]\n",
      " [ 0.01991321]\n",
      " [ 0.04534098]\n",
      " [ 0.02717829]\n",
      " [-0.05637009]\n",
      " [-0.07816532]\n",
      " [ 0.06713621]\n",
      " [-0.04183994]\n",
      " [ 0.03444337]\n",
      " [ 0.05987114]\n",
      " [-0.05273755]\n",
      " [-0.00914709]\n",
      " [-0.04910502]\n",
      " [-0.04183994]\n",
      " [-0.04183994]\n",
      " [-0.02730979]\n",
      " [ 0.04170844]\n",
      " [ 0.06350368]\n",
      " [-0.07090025]\n",
      " [-0.04183994]\n",
      " [-0.02730979]\n",
      " [-0.03457486]\n",
      " [ 0.06713621]\n",
      " [-0.04547248]\n",
      " [-0.00914709]\n",
      " [ 0.04170844]\n",
      " [ 0.03807591]\n",
      " [ 0.01628068]\n",
      " [-0.00188202]\n",
      " [-0.00188202]\n",
      " [ 0.06350368]\n",
      " [ 0.01264814]\n",
      " [ 0.01264814]\n",
      " [-0.00914709]\n",
      " [-0.03094232]\n",
      " [-0.09632802]\n",
      " [ 0.00538306]\n",
      " [-0.10359309]\n",
      " [ 0.07076875]\n",
      " [ 0.01264814]\n",
      " [-0.01641217]\n",
      " [-0.0382074 ]\n",
      " [ 0.00175052]\n",
      " [ 0.04534098]\n",
      " [-0.07090025]\n",
      " [ 0.04534098]\n",
      " [-0.05273755]\n",
      " [-0.04547248]\n",
      " [ 0.01264814]\n",
      " [ 0.04534098]\n",
      " [-0.02004471]\n",
      " [-0.04910502]\n",
      " [-0.07816532]\n",
      " [-0.07090025]\n",
      " [ 0.0562386 ]\n",
      " [-0.02730979]\n",
      " [ 0.00175052]\n",
      " [-0.00188202]\n",
      " [ 0.01628068]\n",
      " [ 0.01628068]\n",
      " [-0.09269548]\n",
      " [ 0.05987114]\n",
      " [-0.02730979]\n",
      " [ 0.02354575]\n",
      " [-0.09632802]\n",
      " [ 0.02717829]\n",
      " [ 0.01991321]\n",
      " [ 0.03807591]\n",
      " [ 0.04170844]\n",
      " [ 0.01991321]\n",
      " [-0.0854304 ]\n",
      " [ 0.01991321]\n",
      " [ 0.02354575]\n",
      " [-0.03094232]\n",
      " [ 0.04897352]\n",
      " [ 0.05987114]\n",
      " [-0.05637009]\n",
      " [ 0.01628068]\n",
      " [-0.04910502]\n",
      " [ 0.06350368]\n",
      " [ 0.04897352]\n",
      " [ 0.00538306]\n",
      " [-0.00551455]\n",
      " [-0.00551455]\n",
      " [-0.08906294]\n",
      " [ 0.03444337]\n",
      " [-0.05273755]\n",
      " [ 0.0090156 ]\n",
      " [-0.06363517]\n",
      " [-0.09632802]\n",
      " [ 0.01628068]\n",
      " [-0.04183994]\n",
      " [-0.07453279]\n",
      " [-0.00551455]\n",
      " [-0.09269548]\n",
      " [ 0.00538306]\n",
      " [ 0.03444337]\n",
      " [ 0.02354575]\n",
      " [ 0.04170844]\n",
      " [-0.02730979]\n",
      " [ 0.04170844]\n",
      " [-0.03094232]\n",
      " [ 0.03081083]\n",
      " [-0.04183994]\n",
      " [-0.03094232]\n",
      " [-0.05637009]\n",
      " [-0.06000263]\n",
      " [-0.04910502]\n",
      " [ 0.02354575]\n",
      " [ 0.00175052]\n",
      " [-0.03457486]\n",
      " [ 0.04170844]\n",
      " [ 0.06713621]\n",
      " [-0.02730979]\n",
      " [-0.01641217]\n",
      " [-0.00188202]\n",
      " [-0.01277963]\n",
      " [-0.00551455]\n",
      " [-0.00914709]\n",
      " [-0.04547248]\n",
      " [-0.05273755]\n",
      " [ 0.01628068]\n",
      " [ 0.04534098]\n",
      " [-0.04183994]\n",
      " [-0.05637009]\n",
      " [ 0.07076875]\n",
      " [ 0.00175052]\n",
      " [-0.00188202]\n",
      " [ 0.02354575]\n",
      " [-0.02004471]\n",
      " [ 0.04170844]\n",
      " [-0.06363517]\n",
      " [ 0.01628068]\n",
      " [ 0.06713621]\n",
      " [ 0.04534098]\n",
      " [ 0.04897352]\n",
      " [ 0.04170844]\n",
      " [-0.02367725]\n",
      " [-0.0382074 ]\n",
      " [ 0.04897352]\n",
      " [ 0.04534098]\n",
      " [ 0.04534098]\n",
      " [ 0.01628068]\n",
      " [-0.07453279]\n",
      " [-0.08179786]\n",
      " [-0.06726771]\n",
      " [ 0.00538306]\n",
      " [-0.00188202]\n",
      " [ 0.0090156 ]\n",
      " [-0.00551455]\n",
      " [ 0.0562386 ]\n",
      " [ 0.0090156 ]\n",
      " [-0.06726771]\n",
      " [ 0.02717829]\n",
      " [-0.02367725]\n",
      " [ 0.04897352]\n",
      " [-0.05273755]\n",
      " [ 0.04170844]\n",
      " [ 0.0562386 ]\n",
      " [-0.03457486]\n",
      " [ 0.08166637]\n",
      " [-0.00188202]\n",
      " [ 0.11072668]\n",
      " [-0.03094232]\n",
      " [ 0.00175052]\n",
      " [ 0.0090156 ]\n",
      " [ 0.03081083]\n",
      " [ 0.03807591]\n",
      " [ 0.0090156 ]\n",
      " [ 0.09256398]\n",
      " [ 0.06713621]\n",
      " [ 0.00175052]\n",
      " [ 0.03081083]\n",
      " [ 0.02717829]\n",
      " [ 0.01264814]\n",
      " [ 0.07440129]\n",
      " [-0.04183994]\n",
      " [-0.08906294]\n",
      " [ 0.02354575]\n",
      " [-0.04547248]\n",
      " [-0.02367725]\n",
      " [-0.09996055]\n",
      " [-0.02730979]\n",
      " [ 0.03081083]\n",
      " [-0.10359309]\n",
      " [ 0.06713621]\n",
      " [-0.05273755]\n",
      " [-0.02730979]\n",
      " [-0.0382074 ]\n",
      " [ 0.0090156 ]\n",
      " [ 0.01264814]\n",
      " [ 0.06713621]\n",
      " [ 0.04534098]\n",
      " [ 0.06713621]\n",
      " [ 0.02717829]\n",
      " [ 0.0562386 ]\n",
      " [ 0.03444337]\n",
      " [ 0.02354575]\n",
      " [ 0.04897352]\n",
      " [ 0.03081083]\n",
      " [-0.10359309]\n",
      " [ 0.01628068]\n",
      " [-0.06000263]\n",
      " [-0.02730979]\n",
      " [ 0.04170844]\n",
      " [-0.08179786]\n",
      " [-0.04183994]\n",
      " [-0.01277963]\n",
      " [ 0.06713621]\n",
      " [-0.05273755]\n",
      " [ 0.00538306]\n",
      " [ 0.08166637]\n",
      " [ 0.03081083]\n",
      " [ 0.00175052]\n",
      " [-0.04910502]\n",
      " [-0.02730979]\n",
      " [ 0.07803383]\n",
      " [ 0.01264814]\n",
      " [ 0.04170844]\n",
      " [ 0.04897352]\n",
      " [-0.01641217]\n",
      " [-0.07453279]\n",
      " [ 0.03444337]\n",
      " [-0.03457486]\n",
      " [-0.05273755]\n",
      " [ 0.05987114]\n",
      " [ 0.06350368]\n",
      " [ 0.0090156 ]\n",
      " [ 0.00538306]\n",
      " [ 0.03807591]\n",
      " [ 0.01264814]\n",
      " [ 0.07440129]\n",
      " [ 0.01628068]\n",
      " [-0.00551455]\n",
      " [ 0.01264814]\n",
      " [-0.03457486]\n",
      " [ 0.06713621]\n",
      " [ 0.03807591]\n",
      " [ 0.0090156 ]\n",
      " [-0.09269548]\n",
      " [ 0.07076875]\n",
      " [-0.01641217]\n",
      " [ 0.04170844]\n",
      " [ 0.01264814]\n",
      " [-0.0382074 ]\n",
      " [ 0.04534098]\n",
      " [ 0.07076875]\n",
      " [-0.07453279]\n",
      " [ 0.05987114]\n",
      " [ 0.07440129]\n",
      " [ 0.0090156 ]\n",
      " [-0.07090025]\n",
      " [ 0.02354575]\n",
      " [-0.05273755]\n",
      " [ 0.06713621]\n",
      " [ 0.00175052]\n",
      " [ 0.02354575]\n",
      " [ 0.03807591]\n",
      " [ 0.01628068]\n",
      " [-0.00188202]\n",
      " [ 0.01264814]\n",
      " [ 0.07440129]\n",
      " [ 0.04170844]\n",
      " [-0.00914709]\n",
      " [ 0.0090156 ]\n",
      " [ 0.06713621]\n",
      " [ 0.00175052]\n",
      " [-0.00914709]\n",
      " [-0.00551455]\n",
      " [ 0.09619652]\n",
      " [-0.07453279]\n",
      " [ 0.05987114]\n",
      " [-0.02367725]\n",
      " [ 0.0090156 ]\n",
      " [ 0.01628068]\n",
      " [ 0.01991321]\n",
      " [ 0.08893144]\n",
      " [ 0.01991321]\n",
      " [-0.02367725]\n",
      " [ 0.09619652]\n",
      " [ 0.02354575]\n",
      " [ 0.07076875]\n",
      " [ 0.03081083]\n",
      " [-0.00188202]\n",
      " [ 0.04534098]\n",
      " [ 0.07440129]\n",
      " [-0.0382074 ]\n",
      " [-0.01277963]\n",
      " [ 0.0090156 ]\n",
      " [ 0.08166637]\n",
      " [ 0.03081083]\n",
      " [ 0.02717829]\n",
      " [-0.06000263]\n",
      " [ 0.00538306]\n",
      " [-0.02004471]\n",
      " [ 0.01991321]\n",
      " [-0.06363517]\n",
      " [ 0.02717829]\n",
      " [-0.01641217]\n",
      " [ 0.03081083]\n",
      " [ 0.0562386 ]\n",
      " [-0.02004471]\n",
      " [-0.10722563]\n",
      " [ 0.08166637]\n",
      " [ 0.00538306]\n",
      " [ 0.03807591]\n",
      " [ 0.03081083]\n",
      " [ 0.00175052]\n",
      " [-0.02730979]\n",
      " [-0.0854304 ]\n",
      " [ 0.01264814]\n",
      " [-0.05273755]\n",
      " [-0.02367725]\n",
      " [-0.07453279]\n",
      " [-0.00551455]\n",
      " [-0.06000263]\n",
      " [-0.02004471]\n",
      " [ 0.03807591]\n",
      " [ 0.01628068]\n",
      " [ 0.04170844]\n",
      " [ 0.01991321]\n",
      " [-0.04910502]\n",
      " [ 0.00175052]\n",
      " [ 0.03444337]\n",
      " [-0.04547248]\n",
      " [-0.00914709]\n",
      " [-0.01641217]\n",
      " [-0.00914709]\n",
      " [ 0.01991321]\n",
      " [ 0.05260606]\n",
      " [-0.02730979]\n",
      " [-0.07453279]\n",
      " [-0.10722563]\n",
      " [ 0.04534098]\n",
      " [-0.00188202]\n",
      " [ 0.01991321]\n",
      " [ 0.01628068]\n",
      " [-0.00188202]\n",
      " [ 0.01628068]\n",
      " [-0.07090025]\n",
      " [ 0.04897352]\n",
      " [ 0.00538306]\n",
      " [ 0.03444337]\n",
      " [ 0.02354575]\n",
      " [ 0.01991321]\n",
      " [-0.04547248]\n",
      " [ 0.05260606]\n",
      " [-0.00551455]\n",
      " [ 0.0090156 ]\n",
      " [-0.02367725]\n",
      " [-0.04183994]\n",
      " [-0.07453279]\n",
      " [ 0.03444337]\n",
      " [-0.06000263]\n",
      " [-0.0854304 ]\n",
      " [ 0.05260606]\n",
      " [ 0.01264814]\n",
      " [ 0.05987114]\n",
      " [-0.02367725]\n",
      " [ 0.01628068]\n",
      " [ 0.11072668]\n",
      " [-0.02004471]\n",
      " [-0.01641217]\n",
      " [ 0.04897352]\n",
      " [-0.05637009]\n",
      " [ 0.02717829]\n",
      " [ 0.06350368]\n",
      " [-0.05273755]\n",
      " [-0.00914709]\n",
      " [ 0.00538306]\n",
      " [ 0.07440129]\n",
      " [-0.05273755]\n",
      " [ 0.08166637]\n",
      " [-0.00551455]\n",
      " [-0.02730979]\n",
      " [-0.05273755]\n",
      " [ 0.0090156 ]\n",
      " [-0.02004471]\n",
      " [ 0.02354575]\n",
      " [ 0.03807591]\n",
      " [-0.07816532]\n",
      " [ 0.0090156 ]\n",
      " [ 0.00175052]\n",
      " [-0.07816532]\n",
      " [ 0.03081083]\n",
      " [-0.03457486]\n",
      " [ 0.04897352]\n",
      " [-0.04183994]\n",
      " [-0.00914709]\n",
      " [ 0.07076875]\n",
      " [ 0.0090156 ]\n",
      " [-0.02730979]\n",
      " [ 0.01628068]\n",
      " [-0.01277963]\n",
      " [-0.05637009]\n",
      " [ 0.04170844]\n",
      " [-0.00551455]\n",
      " [ 0.04170844]\n",
      " [-0.04547248]\n",
      " [-0.04547248]]\n"
     ]
    }
   ],
   "source": [
    "import matplotlib.pyplot as plt\n",
    "import numpy as np\n",
    "from sklearn import datasets, linear_model\n",
    "from sklearn.metrics import mean_squared_error, r2_score\n",
    "\n",
    "# Load the diabetes dataset\n",
    "diabetes = datasets.load_diabetes()\n",
    "\n",
    "\n",
    "# Use only one feature\n",
    "diabetes_X = diabetes.data[:, np.newaxis, 2]\n",
    "print(pd.DataFrame(diabetes.data),diabetes_X)\n",
    "#pd.DataFrame(diabetes.target)\n",
    "\n",
    "# # Split the data into training/testing sets\n",
    "# diabetes_X_train = diabetes_X[:-20]\n",
    "# diabetes_X_test = diabetes_X[-20:]\n",
    "# print('Dimension of diabetes_X_test:',diabetes_X_test.shape)\n",
    "\n",
    "# # Split the targets into training/testing sets\n",
    "# diabetes_y_train = diabetes.target[:-20]\n",
    "# diabetes_y_test = diabetes.target[-20:]\n",
    "\n",
    "# # Create linear regression object\n",
    "# regr = linear_model.LinearRegression()\n",
    "\n",
    "# # Train the model using the training sets\n",
    "# regr.fit(diabetes_X_train, diabetes_y_train)\n",
    "\n",
    "# # Make predictions using the testing set\n",
    "# diabetes_y_pred = regr.predict(diabetes_X_test)\n",
    "\n",
    "# # The coefficients\n",
    "# print('Coefficients: \\n', regr.coef_)\n",
    "# # The mean squared error\n",
    "# print(\"Mean squared error: %.2f\"\n",
    "#       % mean_squared_error(diabetes_y_test, diabetes_y_pred))\n",
    "# # Explained variance score: 1 is perfect prediction\n",
    "# print('Variance score: %.2f' % r2_score(diabetes_y_test, diabetes_y_pred))\n",
    "\n",
    "# # Plot outputs\n",
    "# plt.scatter(diabetes_X_test, diabetes_y_test,  color='black')\n",
    "# plt.plot(diabetes_X_test, diabetes_y_pred, color='blue', linewidth=3)\n",
    "\n",
    "# plt.xticks(())\n",
    "# plt.yticks(())\n",
    "\n",
    "# plt.show()\n",
    "# diabetes_X_test.shape\n",
    "# # diabetes"
   ]
  },
  {
   "cell_type": "code",
   "execution_count": 25,
   "metadata": {},
   "outputs": [],
   "source": [
    "import matplotlib.pyplot as plt\n",
    "import pandas as pd\n",
    "import numpy as np\n",
    "from sklearn import datasets, linear_model\n",
    "from sklearn.metrics import mean_squared_error, r2_score\n",
    "\n",
    "#url=\"https://raw.githubusercontent.com/susanli2016/Machine-Learning-with-Python/master/diabetes.csv\"\n",
    "testDim = 20\n",
    "#diabDF=pd.read_csv(url)\n",
    "#Using only one features\n",
    "#a=np.newaxis\n",
    "#d_X=diabDF['Glucose']\n",
    "df=pd.DataFrame(diabetes.data)\n",
    "d_X=df.iloc[:,2]\n",
    "d_X\n",
    "#pd.DataFrame(diabetes.target)\n",
    "# lendf=d_X.shape[0]\n",
    "# d_X_train = d_X.head(lendf-testDim).values.reshape(-1, 1)\n",
    "#pd.DataFrame(d_X_train)\n",
    "# print(d_X_train.shape,type(d_X_train))\n",
    "# d_X_test = d_X.tail(testDim).values.reshape(-1, 1)\n",
    "# d_X_testPlot = d_X.tail(testDim)\n",
    "# #dimension of d_X_test\n",
    "# print('d_X_test dimension',d_X_test.shape)\n",
    "# # Split the targets into training/testing sets\n",
    "d_Y = pd.DataFrame(diabetes.target)\n",
    "# diabDF\n",
    "# print('d_Y',d_Y.shape)\n",
    "# d_Y_train = d_Y.head(lendf-testDim).values.reshape(-1, 1)\n",
    "# print('d_Y_train',d_Y_train.shape)\n",
    "# d_Y_test = d_Y.tail(testDim)\n",
    "\n",
    "# # # Create linear regression object\n",
    "# regr = linear_model.LinearRegression()\n",
    "\n",
    "# # # Train the model using the training sets\n",
    "# regr.fit(d_X_train, d_Y_train)\n",
    "\n",
    "# # # Make predictions using the testing set\n",
    "# d_Y_pred = regr.predict(d_X_test)\n",
    "# # The coefficients\n",
    "# print('Coefficients: \\n', regr.coef_)\n",
    "# # The mean squared error\n",
    "# print(\"Mean squared error: %.2f\"\n",
    "#       % mean_squared_error(d_Y_test, d_Y_pred))\n",
    "# # Explained variance score: 1 is perfect prediction\n",
    "# print('Variance score: %.2f' % r2_score(d_Y_test, d_Y_pred))\n",
    "\n",
    "# # Plot outputs\n",
    "# d_Y_pred = pd.DataFrame(d_Y_pred).values\n",
    "# plt.scatter(d_X_test, d_Y_test,  color='blue')\n",
    "# #plt.plot(d_X_testPlot.values, d_Y_pred, color='red', linewidth=3)\n",
    "\n",
    "# plt.xticks(())\n",
    "# plt.yticks(())\n",
    "\n",
    "# # plt.show()\n",
    "# # # print(d_X_testPlot.shape,d_Y_test.shape,d_Y_pred.shape,type(d_X_testPlot),type(d_Y_pred))\n",
    "# # # d_X_test\n",
    "# # # d_Y_test.values.reshape(-1, 1)"
   ]
  },
  {
   "cell_type": "code",
   "execution_count": 26,
   "metadata": {},
   "outputs": [
    {
     "name": "stdout",
     "output_type": "stream",
     "text": [
      "..... <class 'numpy.ndarray'> <class 'numpy.ndarray'>\n",
      "----- <class 'numpy.ndarray'> <class 'numpy.ndarray'>\n",
      "..... (20,) (20,)\n",
      "----- (20, 1) (20,)\n",
      "----- [[ 0.07786339]\n",
      " [-0.03961813]\n",
      " [ 0.01103904]\n",
      " [-0.04069594]\n",
      " [-0.03422907]\n",
      " [ 0.00564998]\n",
      " [ 0.08864151]\n",
      " [-0.03315126]\n",
      " [-0.05686312]\n",
      " [-0.03099563]\n",
      " [ 0.05522933]\n",
      " [-0.06009656]\n",
      " [ 0.00133873]\n",
      " [-0.02345095]\n",
      " [-0.07410811]\n",
      " [ 0.01966154]\n",
      " [-0.01590626]\n",
      " [-0.01590626]\n",
      " [ 0.03906215]\n",
      " [-0.0730303 ]] [233.  91. 111. 152. 120.  67. 310.  94. 183.  66. 173.  72.  49.  64.\n",
      "  48. 178. 104. 132. 220.  57.]\n",
      "+++++++++++++++++++++++++++++++++++\n",
      "..... [[187]\n",
      " [162]\n",
      " [136]\n",
      " [121]\n",
      " [108]\n",
      " [181]\n",
      " [154]\n",
      " [128]\n",
      " [137]\n",
      " [123]\n",
      " [106]\n",
      " [190]\n",
      " [ 88]\n",
      " [170]\n",
      " [ 89]\n",
      " [101]\n",
      " [122]\n",
      " [121]\n",
      " [126]\n",
      " [ 93]] [1 1 1 0 0 1 1 1 0 1 0 1 0 1 0 0 0 0 1 0]\n"
     ]
    },
    {
     "data": {
      "image/png": "[encoded data removed]",
      "text/plain": [
       "<Figure size 432x288 with 1 Axes>"
      ]
     },
     "metadata": {},
     "output_type": "display_data"
    }
   ],
   "source": [
    "\n",
    "#plt.plot(d_X_testPlot.values, d_Y_pred, color='red', linewidth=3)\n",
    "\n",
    "plt.xticks(())\n",
    "plt.yticks(())\n",
    "# d_X_test.flatten('F').shape\n",
    "# d_X_train.flatten('F').shape\n",
    "print('.....',type(d_X_test),type(np.array(d_Y_test)))\n",
    "print('-----',type(diabetes_X_test), type(diabetes_y_test))\n",
    "print('.....',np.array(d_X_test.flatten('F')).shape,np.array(d_Y_test).shape)\n",
    "print('-----',diabetes_X_test.shape,diabetes_y_test.shape)\n",
    "plt.scatter(np.array(d_X), np.array(d_Y),  color='blue')\n",
    "print('-----',diabetes_X_test,diabetes_y_test)\n",
    "print('+++++++++++++++++++++++++++++++++++')\n",
    "print('.....',np.array(d_X_test),np.array(d_Y_test))"
   ]
  },
  {
   "cell_type": "code",
   "execution_count": null,
   "metadata": {},
   "outputs": [],
   "source": [
    "# Hide warnings if there are any\n",
    "import warnings\n",
    "warnings.filterwarnings('ignore')\n",
    "# Load in the r magic\n",
    "%load_ext rpy2.ipython\n",
    "# We need ggplot2\n",
    "%R require(ggplot2)"
   ]
  }
 ],
 "metadata": {
  "celltoolbar": "Slideshow",
  "kernelspec": {
   "display_name": "Python 3",
   "language": "python",
   "name": "python3"
  },
  "language_info": {
   "codemirror_mode": {
    "name": "ipython",
    "version": 3
   },
   "file_extension": ".py",
   "mimetype": "text/x-python",
   "name": "python",
   "nbconvert_exporter": "python",
   "pygments_lexer": "ipython3",
   "version": "3.6.5"
  },
  "toc": {
   "base_numbering": 1,
   "nav_menu": {},
   "number_sections": false,
   "sideBar": false,
   "skip_h1_title": false,
   "title_cell": "Table of Contents",
   "title_sidebar": "Contents",
   "toc_cell": false,
   "toc_position": {},
   "toc_section_display": false,
   "toc_window_display": false
  }
 },
 "nbformat": 4,
 "nbformat_minor": 2
}
